{
 "cells": [
  {
   "cell_type": "code",
   "execution_count": 8,
   "id": "31519a87-348b-4e73-8627-f2bd6b70d64f",
   "metadata": {},
   "outputs": [
    {
     "name": "stdout",
     "output_type": "stream",
     "text": [
      "DT: 0.7013\n",
      "RF: 0.7446\n",
      "SVM: 0.7446\n",
      "LR: 0.7359\n",
      "KNN: 0.7100\n"
     ]
    }
   ],
   "source": [
    "import pandas as pd\n",
    "\n",
    "from sklearn.tree import DecisionTreeClassifier\n",
    "from sklearn.svm import SVC\n",
    "from sklearn.ensemble import RandomForestClassifier\n",
    "from sklearn.linear_model import LogisticRegression\n",
    "from sklearn.model_selection import train_test_split\n",
    "from sklearn.metrics import accuracy_score\n",
    "from sklearn.neighbors import KNeighborsClassifier\n",
    "from sklearn.preprocessing import StandardScaler\n",
    "\n",
    "\n",
    "DATASET_PATH = \"dataset/diabetes.csv\"  # 본인이 mobile.csv를 저장한 경로를 입력합니다.\n",
    "# DATASET_PATH = \"https://github.com/MyungKyuYi/AI-class/blob/main/diabetes.csv\"\n",
    "\n",
    "if __name__ == \"__main__\":\n",
    "    iris_dataset = pd.read_csv(DATASET_PATH)\n",
    "\n",
    "    x_data = iris_dataset.iloc[:, :-1]\n",
    "    y_data = iris_dataset.iloc[:, -1] \n",
    "\n",
    "    X_train, X_test, Y_train, Y_test = train_test_split(x_data, y_data, test_size=0.3, random_state=42)\n",
    "    \n",
    "    scaler = StandardScaler()\n",
    "    X_train = scaler.fit_transform(X_train)\n",
    "    X_test = scaler.transform(X_test)\n",
    "\n",
    "    classifier_list = []\n",
    "    classifier_list.append((\"DT\", DecisionTreeClassifier()))\n",
    "    classifier_list.append((\"RF\", RandomForestClassifier()))\n",
    "    classifier_list.append((\"SVM\", SVC()))\n",
    "    classifier_list.append((\"LR\", LogisticRegression(max_iter=3000)))\n",
    "    classifier_list.append((\"KNN\", KNeighborsClassifier(n_neighbors=3)))\n",
    "    \n",
    "    for name, model in classifier_list:\n",
    "        model.fit(X_train, Y_train)\n",
    "        model_pred = model.predict(X_test)\n",
    "        accuracy = accuracy_score(Y_test, model_pred)\n",
    "        print(f\"{name}: {accuracy:.4f}\")    \n"
   ]
  },
  {
   "cell_type": "code",
   "execution_count": null,
   "id": "9b889ba1-9409-4214-acf5-21fa4762b218",
   "metadata": {},
   "outputs": [],
   "source": []
  },
  {
   "cell_type": "code",
   "execution_count": null,
   "id": "a4f60c9a-9993-496a-b241-503ccc48ba25",
   "metadata": {},
   "outputs": [],
   "source": []
  }
 ],
 "metadata": {
  "kernelspec": {
   "display_name": "Python 3",
   "language": "python",
   "name": "python3"
  },
  "language_info": {
   "codemirror_mode": {
    "name": "ipython",
    "version": 3
   },
   "file_extension": ".py",
   "mimetype": "text/x-python",
   "name": "python",
   "nbconvert_exporter": "python",
   "pygments_lexer": "ipython3",
   "version": "3.10.12"
  }
 },
 "nbformat": 4,
 "nbformat_minor": 5
}
