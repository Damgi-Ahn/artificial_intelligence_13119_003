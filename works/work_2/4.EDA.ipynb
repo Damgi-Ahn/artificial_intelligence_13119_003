{
 "cells": [
  {
   "cell_type": "code",
   "execution_count": null,
   "id": "31519a87-348b-4e73-8627-f2bd6b70d64f",
   "metadata": {},
   "outputs": [
    {
     "name": "stdout",
     "output_type": "stream",
     "text": [
      "   PassengerId  Survived  Pclass  \\\n",
      "0            1         0       3   \n",
      "1            2         1       1   \n",
      "2            3         1       3   \n",
      "3            4         1       1   \n",
      "4            5         0       3   \n",
      "\n",
      "                                                Name     Sex   Age  SibSp  \\\n",
      "0                            Braund, Mr. Owen Harris    male  22.0      1   \n",
      "1  Cumings, Mrs. John Bradley (Florence Briggs Th...  female  38.0      1   \n",
      "2                             Heikkinen, Miss. Laina  female  26.0      0   \n",
      "3       Futrelle, Mrs. Jacques Heath (Lily May Peel)  female  35.0      1   \n",
      "4                           Allen, Mr. William Henry    male  35.0      0   \n",
      "\n",
      "   Parch            Ticket     Fare Cabin Embarked  \n",
      "0      0         A/5 21171   7.2500   NaN        S  \n",
      "1      0          PC 17599  71.2833   C85        C  \n",
      "2      0  STON/O2. 3101282   7.9250   NaN        S  \n",
      "3      0            113803  53.1000  C123        S  \n",
      "4      0            373450   8.0500   NaN        S  \n",
      "생존자 수: 342\n",
      "사망자 수: 549\n",
      "생존자의 Age 결측치 개수: 52\n",
      "사망자의 Age 결측치 개수: 125\n"
     ]
    }
   ],
   "source": [
    "import pandas as pd\n",
    "\n",
    "\n",
    "DATASET_PATH = \"dataset/titanic.csv\"  # 본인이 mobile.csv를 저장한 경로를 입력합니다.\n",
    "# DATASET_PATH = \"https://github.com/MyungKyuYi/AI-class/blob/main/diabetes.csv\"\n",
    "\n",
    "df = pd.read_csv(DATASET_PATH)\n",
    "\n",
    "print(df.head())\n",
    "\n",
    "survival_counts = df['Survived'].value_counts()\n",
    "print(\"생존자 수:\", survival_counts.get(1, 0))\n",
    "print(\"사망자 수:\", survival_counts.get(0, 0))\n",
    "\n",
    "missing_age_survived = df[df['Survived'] == 1]['Age'].isnull().sum()\n",
    "missing_age_died = df[df['Survived'] == 0]['Age'].isnull().sum()\n",
    "\n",
    "print(f\"생존자의 Age 결측치 개수: {missing_age_survived}\")\n",
    "print(f\"사망자의 Age 결측치 개수: {missing_age_died}\")\n"
   ]
  },
  {
   "cell_type": "code",
   "execution_count": 47,
   "id": "9b889ba1-9409-4214-acf5-21fa4762b218",
   "metadata": {},
   "outputs": [
    {
     "name": "stdout",
     "output_type": "stream",
     "text": [
      "   PassengerId  Survived  Pclass  \\\n",
      "0            1         0       3   \n",
      "1            2         1       1   \n",
      "2            3         1       3   \n",
      "3            4         1       1   \n",
      "4            5         0       3   \n",
      "\n",
      "                                                Name  Sex   Age  SibSp  Parch  \\\n",
      "0                            Braund, Mr. Owen Harris    1  22.0      1      0   \n",
      "1  Cumings, Mrs. John Bradley (Florence Briggs Th...    0  38.0      1      0   \n",
      "2                             Heikkinen, Miss. Laina    0  26.0      0      0   \n",
      "3       Futrelle, Mrs. Jacques Heath (Lily May Peel)    0  35.0      1      0   \n",
      "4                           Allen, Mr. William Henry    1  35.0      0      0   \n",
      "\n",
      "             Ticket     Fare Cabin Embarked  \n",
      "0         A/5 21171   7.2500   NaN        S  \n",
      "1          PC 17599  71.2833   C85        C  \n",
      "2  STON/O2. 3101282   7.9250   NaN        S  \n",
      "3            113803  53.1000  C123        S  \n",
      "4            373450   8.0500   NaN        S  \n"
     ]
    }
   ],
   "source": [
    "from sklearn.preprocessing import LabelEncoder\n",
    "\n",
    "# 라벨 인코딩\n",
    "# LabelEncoder 객체 생성\n",
    "le = LabelEncoder()\n",
    "\n",
    "# 특정 컬럼만 인코딩 (예: 'Sex'와 'Embarked')\n",
    "columns_to_encode = ['Sex']\n",
    "\n",
    "for col in columns_to_encode:\n",
    "    df[col] = le.fit_transform(df[col].astype(str))  # NaN 처리를 위해 문자열로 변환\n",
    "    \n",
    "\n",
    "print(df.head())"
   ]
  },
  {
   "cell_type": "code",
   "execution_count": 48,
   "id": "a4f60c9a-9993-496a-b241-503ccc48ba25",
   "metadata": {},
   "outputs": [
    {
     "name": "stdout",
     "output_type": "stream",
     "text": [
      "   PassengerId  Survived  Pclass  Sex   Age  SibSp  Parch     Fare\n",
      "0            1         0       3    1  22.0      1      0   7.2500\n",
      "1            2         1       1    0  38.0      1      0  71.2833\n",
      "2            3         1       3    0  26.0      0      0   7.9250\n",
      "3            4         1       1    0  35.0      1      0  53.1000\n",
      "4            5         0       3    1  35.0      0      0   8.0500\n"
     ]
    }
   ],
   "source": [
    "# 컬럼 제거\n",
    "columns_to_drop = ['Name', 'Ticket', 'Cabin', 'Embarked'] \n",
    "df = df.drop(columns=columns_to_drop)\n",
    "print(df.head())"
   ]
  },
  {
   "cell_type": "code",
   "execution_count": 49,
   "id": "e6c31f2e",
   "metadata": {},
   "outputs": [
    {
     "name": "stdout",
     "output_type": "stream",
     "text": [
      "     PassengerId  Survived  Pclass  Sex        Age  SibSp  Parch     Fare\n",
      "0              1         0       3    1  22.000000      1      0   7.2500\n",
      "1              2         1       1    0  38.000000      1      0  71.2833\n",
      "2              3         1       3    0  26.000000      0      0   7.9250\n",
      "3              4         1       1    0  35.000000      1      0  53.1000\n",
      "4              5         0       3    1  35.000000      0      0   8.0500\n",
      "..           ...       ...     ...  ...        ...    ...    ...      ...\n",
      "886          887         0       2    1  27.000000      0      0  13.0000\n",
      "887          888         1       1    0  19.000000      0      0  30.0000\n",
      "888          889         0       3    0  29.699118      1      2  23.4500\n",
      "889          890         1       1    1  26.000000      0      0  30.0000\n",
      "890          891         0       3    1  32.000000      0      0   7.7500\n",
      "\n",
      "[891 rows x 8 columns]\n"
     ]
    }
   ],
   "source": [
    "# 결측치 제거\n",
    "mean_age = df['Age'].mean()\n",
    "\n",
    "df['Age'] = df['Age'].fillna(mean_age)\n",
    "\n",
    "\n",
    "print(df)"
   ]
  }
 ],
 "metadata": {
  "kernelspec": {
   "display_name": "Python 3",
   "language": "python",
   "name": "python3"
  },
  "language_info": {
   "codemirror_mode": {
    "name": "ipython",
    "version": 3
   },
   "file_extension": ".py",
   "mimetype": "text/x-python",
   "name": "python",
   "nbconvert_exporter": "python",
   "pygments_lexer": "ipython3",
   "version": "3.10.12"
  }
 },
 "nbformat": 4,
 "nbformat_minor": 5
}
