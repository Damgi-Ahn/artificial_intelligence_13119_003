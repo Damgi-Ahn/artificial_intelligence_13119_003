{
 "cells": [
  {
   "cell_type": "code",
   "execution_count": 14,
   "id": "31519a87-348b-4e73-8627-f2bd6b70d64f",
   "metadata": {},
   "outputs": [
    {
     "name": "stdout",
     "output_type": "stream",
     "text": [
      "DT : [0.8375 0.82   0.81   0.82   0.795 ]\n",
      "RF : [0.95   0.94   0.9375 0.9525 0.965 ]\n",
      "SVM : [0.8775 0.8625 0.8575 0.855  0.89  ]\n"
     ]
    },
    {
     "name": "stderr",
     "output_type": "stream",
     "text": [
      "/home/damgi/.local/lib/python3.10/site-packages/sklearn/linear_model/_sag.py:348: ConvergenceWarning: The max_iter was reached which means the coef_ did not converge\n",
      "  warnings.warn(\n",
      "/home/damgi/.local/lib/python3.10/site-packages/sklearn/linear_model/_sag.py:348: ConvergenceWarning: The max_iter was reached which means the coef_ did not converge\n",
      "  warnings.warn(\n",
      "/home/damgi/.local/lib/python3.10/site-packages/sklearn/linear_model/_sag.py:348: ConvergenceWarning: The max_iter was reached which means the coef_ did not converge\n",
      "  warnings.warn(\n",
      "/home/damgi/.local/lib/python3.10/site-packages/sklearn/linear_model/_sag.py:348: ConvergenceWarning: The max_iter was reached which means the coef_ did not converge\n",
      "  warnings.warn(\n"
     ]
    },
    {
     "name": "stdout",
     "output_type": "stream",
     "text": [
      "LR : [0.725  0.6975 0.7    0.685  0.64  ]\n"
     ]
    },
    {
     "name": "stderr",
     "output_type": "stream",
     "text": [
      "/home/damgi/.local/lib/python3.10/site-packages/sklearn/linear_model/_sag.py:348: ConvergenceWarning: The max_iter was reached which means the coef_ did not converge\n",
      "  warnings.warn(\n"
     ]
    },
    {
     "data": {
      "image/png": "[encoded data removed]",
      "text/plain": [
       "<Figure size 640x480 with 1 Axes>"
      ]
     },
     "metadata": {},
     "output_type": "display_data"
    }
   ],
   "source": [
    "import pandas as pd\n",
    "\n",
    "import matplotlib.pyplot as plt\n",
    "\n",
    "from sklearn.tree import DecisionTreeClassifier\n",
    "from sklearn.svm import SVC\n",
    "from sklearn.ensemble import RandomForestClassifier\n",
    "from sklearn.linear_model import LogisticRegression\n",
    "from sklearn import model_selection\n",
    "\n",
    "\n",
    "DATASET_PATH = \"dataset/mobile.csv\"  # 본인이 mobile.csv를 저장한 경로를 입력합니다.\n",
    "\n",
    "if __name__ == \"__main__\":\n",
    "    mobile_dataset = pd.read_csv(DATASET_PATH)\n",
    "    mobile_dataset['target'] = mobile_dataset['price_range']\n",
    "\n",
    "    x_data = mobile_dataset.iloc[:, :20]\n",
    "    y_data = mobile_dataset.iloc[:, [-1]]\n",
    "\n",
    "    classifier_list = []\n",
    "    classifier_list.append((\"DT\", DecisionTreeClassifier()))\n",
    "    classifier_list.append((\"RF\", SVC()))\n",
    "    classifier_list.append((\"SVM\", RandomForestClassifier()))\n",
    "    classifier_list.append((\"LR\", LogisticRegression(max_iter=3000)))\n",
    "    \n",
    "    results = []\n",
    "    names = []\n",
    "    \n",
    "    for name, classifier in classifier_list:\n",
    "        kfold = model_selection.StratifiedKFold(n_splits=5, random_state=7, shuffle=True)\n",
    "        cv_results = model_selection.cross_val_score(classifier, x_data, y_data.values.ravel(), cv=kfold, scoring=\"accuracy\")\n",
    "\n",
    "        print(name, \":\", cv_results)\n",
    "        results.append(cv_results)\n",
    "        names.append(name)\n",
    "            \n",
    "    fig = plt.figure()\n",
    "\n",
    "    fig.suptitle('Classifier Comparison')\n",
    "    ax = fig.add_subplot(111)\n",
    "    plt.boxplot(results)\n",
    "    ax.set_xticklabels(names)\n",
    "    plt.show()"
   ]
  },
  {
   "cell_type": "code",
   "execution_count": null,
   "id": "9b889ba1-9409-4214-acf5-21fa4762b218",
   "metadata": {},
   "outputs": [],
   "source": []
  },
  {
   "cell_type": "code",
   "execution_count": null,
   "id": "a4f60c9a-9993-496a-b241-503ccc48ba25",
   "metadata": {},
   "outputs": [],
   "source": []
  }
 ],
 "metadata": {
  "kernelspec": {
   "display_name": "Python 3 (ipykernel)",
   "language": "python",
   "name": "python3"
  },
  "language_info": {
   "codemirror_mode": {
    "name": "ipython",
    "version": 3
   },
   "file_extension": ".py",
   "mimetype": "text/x-python",
   "name": "python",
   "nbconvert_exporter": "python",
   "pygments_lexer": "ipython3",
   "version": "3.10.12"
  }
 },
 "nbformat": 4,
 "nbformat_minor": 5
}
